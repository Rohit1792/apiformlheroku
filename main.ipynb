{
 "cells": [
  {
   "cell_type": "code",
   "execution_count": 1,
   "metadata": {},
   "outputs": [],
   "source": [
    "from fastapi import FastAPI\n",
    "from pydantic import BaseModel\n",
    "import pickle\n",
    "import json\n",
    "import uvicorn\n",
    "from pyngrok import ngrok\n",
    "from fastapi.middleware.cors import CORSMiddleware\n",
    "import nest_asyncio"
   ]
  },
  {
   "cell_type": "code",
   "execution_count": 2,
   "metadata": {},
   "outputs": [],
   "source": [
    "app = FastAPI()\n",
    "\n",
    "\n",
    "origins = [\"*\"]\n",
    "app.add_middleware(CORSMiddleware,\n",
    "                   allow_origins=origins,\n",
    "                   allow_credentials=True,\n",
    "                   allow_methods=[\"*\"],\n",
    "                   allow_headers=[\"*\"])"
   ]
  },
  {
   "cell_type": "code",
   "execution_count": 3,
   "metadata": {},
   "outputs": [
    {
     "name": "stderr",
     "output_type": "stream",
     "text": [
      "c:\\Users\\subhash choudhary\\AppData\\Local\\Programs\\Python\\Python311\\Lib\\site-packages\\sklearn\\base.py:348: InconsistentVersionWarning: Trying to unpickle estimator SVC from version 1.0.2 when using version 1.3.2. This might lead to breaking code or invalid results. Use at your own risk. For more info please refer to:\n",
      "https://scikit-learn.org/stable/model_persistence.html#security-maintainability-limitations\n",
      "  warnings.warn(\n"
     ]
    }
   ],
   "source": [
    "class model_input(BaseModel):\n",
    "    Pregnancies : int\n",
    "    Glucose : int\n",
    "    Blood_Pressure : int\n",
    "    Skin_Thickness : int\n",
    "    Insulin : int\n",
    "    BMI : float\n",
    "    DPF : float\n",
    "    Age :  int\n",
    "\n",
    "# Loading the Model\n",
    "\n",
    "diabetes_model = pickle.load(open(\"diabetes_model.sav\", \"rb\"))\n",
    "\n",
    "@app.post(\"/diabetes_prediction\")\n",
    "def diabetes_pred(input_parameters : model_input):\n",
    "    input_data = input_parameters.json()\n",
    "    input_dictionary = json.loads(input_data)\n",
    "\n",
    "    preg = input_dictionary[\"Pregnancies\"]\n",
    "    glu = input_dictionary[\"Glucose\"]\n",
    "    bp = input_dictionary[\"Blood_Pressure\"]\n",
    "    skin = input_dictionary[\"Skin_Thickness\"]\n",
    "    ins = input_dictionary[\"Insulin\"]\n",
    "    bmi = input_dictionary[\"BMI\"]\n",
    "    dpf = input_dictionary[\"DPF\"]\n",
    "    age = input_dictionary[\"Age\"]\n",
    "\n",
    "\n",
    "    input_list = [preg, glu, bp, skin, ins, bmi, dpf, age]\n",
    "\n",
    "    prediction = diabetes_model.predict([input_list])\n",
    "\n",
    "    if prediction[0] == 0:\n",
    "        return \"The Person is not Diabetic.\"\n",
    "    else:\n",
    "        return \"The Person is diabetic\"\n"
   ]
  },
  {
   "cell_type": "code",
   "execution_count": 7,
   "metadata": {},
   "outputs": [],
   "source": [
    "    \n",
    "# ngrok_tunnel = ngrok.connect(8000)\n",
    "# print(\"Public URL: \", ngrok_tunnel.public_url)\n",
    "# nest_asyncio.apply()\n",
    "# uvicorn.run(app, port=8000)"
   ]
  },
  {
   "cell_type": "code",
   "execution_count": 9,
   "metadata": {},
   "outputs": [],
   "source": [
    "# import json\n",
    "# import requests\n",
    "\n",
    "# url = \"http://127.0.0.1:8000/diabetes_prediction\"\n",
    "\n",
    "# input_data = {\n",
    "#     \"Pregnancies\" : 1,   \n",
    "#     \"Glucose\" : 85, \n",
    "#     \"Blood_Pressure\" : 66,\n",
    "#     \"Skin_Thickness\" : 29,\n",
    "#     \"Insulin\" : 0,\n",
    "#     \"BMI\" : 26.6,\n",
    "#     \"DPF\" : 0.351,\n",
    "#     \"Age\" :  31\n",
    "# }\n",
    "\n",
    "# input_json = json.dumps(input_data)\n",
    "# response = requests.post(url, data=input_json)\n",
    "\n",
    "# print(response.text)"
   ]
  }
 ],
 "metadata": {
  "kernelspec": {
   "display_name": "Python 3",
   "language": "python",
   "name": "python3"
  },
  "language_info": {
   "codemirror_mode": {
    "name": "ipython",
    "version": 3
   },
   "file_extension": ".py",
   "mimetype": "text/x-python",
   "name": "python",
   "nbconvert_exporter": "python",
   "pygments_lexer": "ipython3",
   "version": "3.11.0"
  }
 },
 "nbformat": 4,
 "nbformat_minor": 2
}
